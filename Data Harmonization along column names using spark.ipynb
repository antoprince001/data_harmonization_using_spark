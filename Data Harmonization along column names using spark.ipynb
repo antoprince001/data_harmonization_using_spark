{
 "cells": [
  {
   "cell_type": "code",
   "execution_count": 0,
   "metadata": {
    "application/vnd.databricks.v1+cell": {
     "cellMetadata": {
      "byteLimit": 2048000,
      "rowLimit": 10000
     },
     "inputWidgets": {},
     "nuid": "9ba5666a-069a-4549-a01a-e91b92c33b19",
     "showTitle": false,
     "title": ""
    }
   },
   "outputs": [],
   "source": [
    "from pyspark.sql.types import StringType, StructType, StructField\n",
    "from pyspark.sql.functions import lit\n",
    "import logging"
   ]
  },
  {
   "cell_type": "code",
   "execution_count": 0,
   "metadata": {
    "application/vnd.databricks.v1+cell": {
     "cellMetadata": {
      "byteLimit": 2048000,
      "rowLimit": 10000
     },
     "inputWidgets": {},
     "nuid": "8afe09a6-d8fe-4ded-b4d8-7bf3f1fe6e23",
     "showTitle": false,
     "title": ""
    }
   },
   "outputs": [],
   "source": [
    "logging.basicConfig(level=logging.INFO)"
   ]
  },
  {
   "cell_type": "code",
   "execution_count": 0,
   "metadata": {
    "application/vnd.databricks.v1+cell": {
     "cellMetadata": {
      "byteLimit": 2048000,
      "rowLimit": 10000
     },
     "inputWidgets": {},
     "nuid": "2743e175-4a7f-4279-90f0-6f64e6b1f895",
     "showTitle": false,
     "title": ""
    }
   },
   "outputs": [],
   "source": [
    "schema = StructType([\n",
    "    StructField(\"FirstName\", StringType(), True),\n",
    "    StructField(\"LastName\", StringType(), True),\n",
    "    StructField(\"DOB\", StringType(), True)\n",
    "])\n",
    "\n",
    "# Sample data\n",
    "data = [(\"John\", \"Doe\", \"1990-01-01\"), (\"Jane\", \"Smith\", \"1985-05-15\")]\n",
    "\n",
    "df_one = spark.createDataFrame(data,schema)"
   ]
  },
  {
   "cell_type": "code",
   "execution_count": 0,
   "metadata": {
    "application/vnd.databricks.v1+cell": {
     "cellMetadata": {
      "byteLimit": 2048000,
      "rowLimit": 10000
     },
     "inputWidgets": {},
     "nuid": "2f5c040b-208c-41e3-bdef-cf3f9fd690ce",
     "showTitle": false,
     "title": ""
    }
   },
   "outputs": [],
   "source": [
    "schema = StructType([\n",
    "    StructField(\"first_name\", StringType(), True),\n",
    "    StructField(\"last_name_in_record_\", StringType(), True),\n",
    "    StructField(\"date_of_birth\", StringType(), True)\n",
    "])\n",
    "\n",
    "# Sample data\n",
    "data = [(\"Peter\", \"Parker\", \"2001-05-02\"), (\"Mary\", \"Jane\", \"2004-08-03\")]\n",
    "\n",
    "df_two = spark.createDataFrame(data,schema)"
   ]
  },
  {
   "cell_type": "code",
   "execution_count": 0,
   "metadata": {
    "application/vnd.databricks.v1+cell": {
     "cellMetadata": {
      "byteLimit": 2048000,
      "rowLimit": 10000
     },
     "inputWidgets": {},
     "nuid": "ccaa9429-a89b-42b0-b1de-b0c4f7878c66",
     "showTitle": false,
     "title": ""
    }
   },
   "outputs": [],
   "source": [
    "schema = StructType([\n",
    "    StructField(\"name\", StringType(), True),\n",
    "    StructField(\"lastName\", StringType(), True),\n",
    "    StructField(\"birthYearMonthDate\", StringType(), True),\n",
    "])\n",
    "\n",
    "# Sample data\n",
    "data = [(\"Bruce\", \"Wayne\", \"1995-03-08\"), (\"Diana\", \"Prince\", \"1995-03-01\")]\n",
    "\n",
    "df_three = spark.createDataFrame(data,schema)"
   ]
  },
  {
   "cell_type": "code",
   "execution_count": 0,
   "metadata": {
    "application/vnd.databricks.v1+cell": {
     "cellMetadata": {
      "byteLimit": 2048000,
      "rowLimit": 10000
     },
     "inputWidgets": {},
     "nuid": "c59732c3-e83e-4dd5-8eb0-7d98e25383b8",
     "showTitle": false,
     "title": ""
    }
   },
   "outputs": [
    {
     "output_type": "stream",
     "name": "stdout",
     "output_type": "stream",
     "text": [
      "Out[113]: DataFrame[name: string, lastName: string, birthYearMonthDate: string]"
     ]
    }
   ],
   "source": [
    "df_three"
   ]
  },
  {
   "cell_type": "code",
   "execution_count": 0,
   "metadata": {
    "application/vnd.databricks.v1+cell": {
     "cellMetadata": {
      "byteLimit": 2048000,
      "rowLimit": 10000
     },
     "inputWidgets": {},
     "nuid": "6f325a68-dc60-4986-b914-09da3bb04a84",
     "showTitle": false,
     "title": ""
    }
   },
   "outputs": [],
   "source": [
    "destination_df_schema = StructType(\n",
    "    [\n",
    "        StructField(\"First_Name\",StringType(),True),\n",
    "        StructField(\"Last_Name\",StringType(),True),\n",
    "        StructField(\"Date_Of_Birth\",StringType(),True),\n",
    "    ]\n",
    ")"
   ]
  },
  {
   "cell_type": "code",
   "execution_count": 0,
   "metadata": {
    "application/vnd.databricks.v1+cell": {
     "cellMetadata": {
      "byteLimit": 2048000,
      "rowLimit": 10000
     },
     "inputWidgets": {},
     "nuid": "68ff181d-66a3-44f4-9bbb-d8321b4f5ef1",
     "showTitle": false,
     "title": ""
    }
   },
   "outputs": [],
   "source": [
    "destination_df = spark.createDataFrame(data = [], schema = destination_df_schema)"
   ]
  },
  {
   "cell_type": "code",
   "execution_count": 0,
   "metadata": {
    "application/vnd.databricks.v1+cell": {
     "cellMetadata": {
      "byteLimit": 2048000,
      "rowLimit": 10000
     },
     "inputWidgets": {},
     "nuid": "98441f0c-37ea-472f-b566-b9dcef76353d",
     "showTitle": false,
     "title": ""
    }
   },
   "outputs": [],
   "source": [
    "column_name_mappings = {\n",
    "    'First_Name' : ['FirstName','first_name','name'], #Exact matches in column name\n",
    "    'Last_Name' : ['LastName','last_name_in_record_','Last_Name'], \n",
    "    'Date_Of_Birth' : ['DOB', 'date_of_birth', ('birth','Date')] #starting and ending match in column name\n",
    "}"
   ]
  },
  {
   "cell_type": "code",
   "execution_count": 0,
   "metadata": {
    "application/vnd.databricks.v1+cell": {
     "cellMetadata": {
      "byteLimit": 2048000,
      "rowLimit": 10000
     },
     "inputWidgets": {},
     "nuid": "77ec8631-83ef-4410-a232-6948ae87168c",
     "showTitle": false,
     "title": ""
    }
   },
   "outputs": [],
   "source": [
    "# def prefix_suffix_column_name_matching(column_names, prefix, suffix):\n",
    "#     for column_name in column_names:\n",
    "#         if column_name.startswith(prefix.lower()) and column_name.endswith(suffix.lower()):\n",
    "#             logging.info(f\"Matched column '{column_name}' with prefix '{prefix}' and suffix '{suffix}'.\")\n",
    "#             return column_name\n",
    "#     logging.info(f\"No match found with prefix '{prefix}' and suffix '{suffix}'.\")\n",
    "#     return None"
   ]
  },
  {
   "cell_type": "code",
   "execution_count": 0,
   "metadata": {
    "application/vnd.databricks.v1+cell": {
     "cellMetadata": {
      "byteLimit": 2048000,
      "rowLimit": 10000
     },
     "inputWidgets": {},
     "nuid": "c69dc8ec-66d3-4a03-91de-bc07435a5f11",
     "showTitle": false,
     "title": ""
    }
   },
   "outputs": [],
   "source": [
    "def prefix_suffix_column_name_matching(column_names, prefix, suffix):\n",
    "    matched_columns = []\n",
    "    for column_name in column_names:\n",
    "        if column_name.startswith(prefix.lower()) and column_name.endswith(suffix.lower()):\n",
    "            matched_columns.append(column_name)\n",
    "    \n",
    "    if len(matched_columns) > 1:\n",
    "        logging.warning(f\"Multiple matches found for prefix '{prefix}' and suffix '{suffix}': {matched_columns}. Using the first match '{matched_columns[0]}'.\")\n",
    "    \n",
    "    if matched_columns:\n",
    "        logging.info(f\"Matched column '{matched_columns[0]}' with prefix '{prefix}' and suffix '{suffix}'.\")\n",
    "        return matched_columns[0]\n",
    "    \n",
    "    logging.info(f\"No match found with prefix '{prefix}' and suffix '{suffix}'.\")\n",
    "    return None"
   ]
  },
  {
   "cell_type": "code",
   "execution_count": 0,
   "metadata": {
    "application/vnd.databricks.v1+cell": {
     "cellMetadata": {
      "byteLimit": 2048000,
      "rowLimit": 10000
     },
     "inputWidgets": {},
     "nuid": "8e1aa9aa-68a2-4cc9-a116-86fcb93d9ebd",
     "showTitle": false,
     "title": ""
    }
   },
   "outputs": [],
   "source": [
    "# Function to handle renaming or adding a column with conflict checks\n",
    "def handle_column_renaming(df, column_name, new_column_name, mapped_column_names):\n",
    "    if new_column_name in mapped_column_names:\n",
    "        logging.warning(f\"Conflict detected: Column '{new_column_name}' already exists. Skipping renaming of '{column_name}'.\")\n",
    "    else:\n",
    "        logging.info(f\"Renaming column '{column_name}' to '{new_column_name}'.\")\n",
    "        df = df.withColumnRenamed(column_name, new_column_name)\n",
    "        mapped_column_names.add(new_column_name)\n",
    "    return df, mapped_column_names"
   ]
  },
  {
   "cell_type": "code",
   "execution_count": 0,
   "metadata": {
    "application/vnd.databricks.v1+cell": {
     "cellMetadata": {
      "byteLimit": 2048000,
      "rowLimit": 10000
     },
     "inputWidgets": {},
     "nuid": "2414b815-6ecd-4a3d-a0cf-575a2051b75f",
     "showTitle": false,
     "title": ""
    }
   },
   "outputs": [],
   "source": [
    "# Function to rename or add columns based on column name mappings\n",
    "def rename_or_add_column_with_column_name_matching(df, column_name_mappings):\n",
    "    column_names = [column_name.lower() for column_name in df.columns]\n",
    "    mapped_column_names = set()\n",
    "    new_df = df\n",
    "\n",
    "    for new_column_name, old_column_names in column_name_mappings.items():\n",
    "        logging.info(f\"Processing new column name: {new_column_name}\")\n",
    "        is_column_mapped_flag = False\n",
    "        for old_column_name in old_column_names:\n",
    "            if isinstance(old_column_name, tuple):\n",
    "                prefix, suffix = old_column_name\n",
    "                column_match = prefix_suffix_column_name_matching(column_names, prefix, suffix)\n",
    "                if column_match is not None:\n",
    "                    new_df, mapped_column_names = handle_column_renaming(new_df, column_match, new_column_name, mapped_column_names)\n",
    "                    is_column_mapped_flag = True\n",
    "                    break\n",
    "            elif isinstance(old_column_name, str) and old_column_name.lower() in column_names:\n",
    "                logging.info(f\"Exact match found for old column name '{old_column_name}'.\")\n",
    "                new_df,mapped_column_names  = handle_column_renaming(new_df, old_column_name, new_column_name, mapped_column_names)\n",
    "                is_column_mapped_flag = True\n",
    "                break\n",
    "        if not is_column_mapped_flag:\n",
    "            logging.info(f\"No match found for '{new_column_name}'. Adding new column with null values.\")\n",
    "            new_df = new_df.withColumn(new_column_name, lit(None))\n",
    "    new_df_columns = column_name_mappings.keys()\n",
    "    new_df.select(*new_df_columns)\n",
    "    return new_df"
   ]
  },
  {
   "cell_type": "code",
   "execution_count": 0,
   "metadata": {
    "application/vnd.databricks.v1+cell": {
     "cellMetadata": {
      "byteLimit": 2048000,
      "rowLimit": 10000
     },
     "inputWidgets": {},
     "nuid": "8cb4e37d-1c95-43eb-b654-7d127bf1cacd",
     "showTitle": false,
     "title": ""
    }
   },
   "outputs": [],
   "source": [
    "def harmonize_data(destination_df):\n",
    "   dataframes = [df_one, df_two, df_three]\n",
    "   for dataframe in dataframes:\n",
    "      parsed_df = rename_or_add_column_with_column_name_matching(dataframe, column_name_mappings)\n",
    "      destination_df = destination_df.union(parsed_df)\n",
    "      display(destination_df)\n",
    "\n",
    "   return destination_df"
   ]
  },
  {
   "cell_type": "code",
   "execution_count": 0,
   "metadata": {
    "application/vnd.databricks.v1+cell": {
     "cellMetadata": {
      "byteLimit": 2048000,
      "rowLimit": 10000
     },
     "inputWidgets": {},
     "nuid": "e6435424-6d06-404e-a994-7c028848a45e",
     "showTitle": false,
     "title": ""
    }
   },
   "outputs": [
    {
     "output_type": "stream",
     "name": "stderr",
     "output_type": "stream",
     "text": [
      "INFO:root:Processing new column name: First_Name\nINFO:root:Exact match found for old column name 'FirstName'.\nINFO:root:Renaming column 'FirstName' to 'First_Name'.\nINFO:root:Processing new column name: Last_Name\nINFO:root:Exact match found for old column name 'LastName'.\nINFO:root:Renaming column 'LastName' to 'Last_Name'.\nINFO:root:Processing new column name: Date_Of_Birth\nINFO:root:Exact match found for old column name 'DOB'.\nINFO:root:Renaming column 'DOB' to 'Date_Of_Birth'.\n"
     ]
    },
    {
     "output_type": "display_data",
     "data": {
      "text/html": [
       "<style scoped>\n",
       "  .table-result-container {\n",
       "    max-height: 300px;\n",
       "    overflow: auto;\n",
       "  }\n",
       "  table, th, td {\n",
       "    border: 1px solid black;\n",
       "    border-collapse: collapse;\n",
       "  }\n",
       "  th, td {\n",
       "    padding: 5px;\n",
       "  }\n",
       "  th {\n",
       "    text-align: left;\n",
       "  }\n",
       "</style><div class='table-result-container'><table class='table-result'><thead style='background-color: white'><tr><th>First_Name</th><th>Last_Name</th><th>Date_Of_Birth</th></tr></thead><tbody><tr><td>John</td><td>Doe</td><td>1990-01-01</td></tr><tr><td>Jane</td><td>Smith</td><td>1985-05-15</td></tr></tbody></table></div>"
      ]
     },
     "metadata": {
      "application/vnd.databricks.v1+output": {
       "addedWidgets": {},
       "aggData": [],
       "aggError": "",
       "aggOverflow": false,
       "aggSchema": [],
       "aggSeriesLimitReached": false,
       "aggType": "",
       "arguments": {},
       "columnCustomDisplayInfos": {},
       "data": [
        [
         "John",
         "Doe",
         "1990-01-01"
        ],
        [
         "Jane",
         "Smith",
         "1985-05-15"
        ]
       ],
       "datasetInfos": [],
       "dbfsResultPath": null,
       "isJsonSchema": true,
       "metadata": {},
       "overflow": false,
       "plotOptions": {
        "customPlotOptions": {},
        "displayType": "table",
        "pivotAggregation": null,
        "pivotColumns": null,
        "xColumns": null,
        "yColumns": null
       },
       "removedWidgets": [],
       "schema": [
        {
         "metadata": "{}",
         "name": "First_Name",
         "type": "\"string\""
        },
        {
         "metadata": "{}",
         "name": "Last_Name",
         "type": "\"string\""
        },
        {
         "metadata": "{}",
         "name": "Date_Of_Birth",
         "type": "\"string\""
        }
       ],
       "type": "table"
      }
     },
     "output_type": "display_data"
    },
    {
     "output_type": "stream",
     "name": "stderr",
     "output_type": "stream",
     "text": [
      "INFO:root:Processing new column name: First_Name\nINFO:root:Exact match found for old column name 'first_name'.\nINFO:root:Renaming column 'first_name' to 'First_Name'.\nINFO:root:Processing new column name: Last_Name\nINFO:root:Exact match found for old column name 'last_name_in_record_'.\nINFO:root:Renaming column 'last_name_in_record_' to 'Last_Name'.\nINFO:root:Processing new column name: Date_Of_Birth\nINFO:root:Exact match found for old column name 'date_of_birth'.\nINFO:root:Renaming column 'date_of_birth' to 'Date_Of_Birth'.\n"
     ]
    },
    {
     "output_type": "display_data",
     "data": {
      "text/html": [
       "<style scoped>\n",
       "  .table-result-container {\n",
       "    max-height: 300px;\n",
       "    overflow: auto;\n",
       "  }\n",
       "  table, th, td {\n",
       "    border: 1px solid black;\n",
       "    border-collapse: collapse;\n",
       "  }\n",
       "  th, td {\n",
       "    padding: 5px;\n",
       "  }\n",
       "  th {\n",
       "    text-align: left;\n",
       "  }\n",
       "</style><div class='table-result-container'><table class='table-result'><thead style='background-color: white'><tr><th>First_Name</th><th>Last_Name</th><th>Date_Of_Birth</th></tr></thead><tbody><tr><td>John</td><td>Doe</td><td>1990-01-01</td></tr><tr><td>Jane</td><td>Smith</td><td>1985-05-15</td></tr><tr><td>Peter</td><td>Parker</td><td>2001-05-02</td></tr><tr><td>Mary</td><td>Jane</td><td>2004-08-03</td></tr></tbody></table></div>"
      ]
     },
     "metadata": {
      "application/vnd.databricks.v1+output": {
       "addedWidgets": {},
       "aggData": [],
       "aggError": "",
       "aggOverflow": false,
       "aggSchema": [],
       "aggSeriesLimitReached": false,
       "aggType": "",
       "arguments": {},
       "columnCustomDisplayInfos": {},
       "data": [
        [
         "John",
         "Doe",
         "1990-01-01"
        ],
        [
         "Jane",
         "Smith",
         "1985-05-15"
        ],
        [
         "Peter",
         "Parker",
         "2001-05-02"
        ],
        [
         "Mary",
         "Jane",
         "2004-08-03"
        ]
       ],
       "datasetInfos": [],
       "dbfsResultPath": null,
       "isJsonSchema": true,
       "metadata": {},
       "overflow": false,
       "plotOptions": {
        "customPlotOptions": {},
        "displayType": "table",
        "pivotAggregation": null,
        "pivotColumns": null,
        "xColumns": null,
        "yColumns": null
       },
       "removedWidgets": [],
       "schema": [
        {
         "metadata": "{}",
         "name": "First_Name",
         "type": "\"string\""
        },
        {
         "metadata": "{}",
         "name": "Last_Name",
         "type": "\"string\""
        },
        {
         "metadata": "{}",
         "name": "Date_Of_Birth",
         "type": "\"string\""
        }
       ],
       "type": "table"
      }
     },
     "output_type": "display_data"
    },
    {
     "output_type": "stream",
     "name": "stderr",
     "output_type": "stream",
     "text": [
      "INFO:root:Processing new column name: First_Name\nINFO:root:Exact match found for old column name 'name'.\nINFO:root:Renaming column 'name' to 'First_Name'.\nINFO:root:Processing new column name: Last_Name\nINFO:root:Exact match found for old column name 'LastName'.\nINFO:root:Renaming column 'LastName' to 'Last_Name'.\nINFO:root:Processing new column name: Date_Of_Birth\nINFO:root:Matched column 'birthyearmonthdate' with prefix 'birth' and suffix 'Date'.\nINFO:root:Renaming column 'birthyearmonthdate' to 'Date_Of_Birth'.\n"
     ]
    },
    {
     "output_type": "display_data",
     "data": {
      "text/html": [
       "<style scoped>\n",
       "  .table-result-container {\n",
       "    max-height: 300px;\n",
       "    overflow: auto;\n",
       "  }\n",
       "  table, th, td {\n",
       "    border: 1px solid black;\n",
       "    border-collapse: collapse;\n",
       "  }\n",
       "  th, td {\n",
       "    padding: 5px;\n",
       "  }\n",
       "  th {\n",
       "    text-align: left;\n",
       "  }\n",
       "</style><div class='table-result-container'><table class='table-result'><thead style='background-color: white'><tr><th>First_Name</th><th>Last_Name</th><th>Date_Of_Birth</th></tr></thead><tbody><tr><td>John</td><td>Doe</td><td>1990-01-01</td></tr><tr><td>Jane</td><td>Smith</td><td>1985-05-15</td></tr><tr><td>Peter</td><td>Parker</td><td>2001-05-02</td></tr><tr><td>Mary</td><td>Jane</td><td>2004-08-03</td></tr><tr><td>Bruce</td><td>Wayne</td><td>1995-03-08</td></tr><tr><td>Diana</td><td>Prince</td><td>1995-03-01</td></tr></tbody></table></div>"
      ]
     },
     "metadata": {
      "application/vnd.databricks.v1+output": {
       "addedWidgets": {},
       "aggData": [],
       "aggError": "",
       "aggOverflow": false,
       "aggSchema": [],
       "aggSeriesLimitReached": false,
       "aggType": "",
       "arguments": {},
       "columnCustomDisplayInfos": {},
       "data": [
        [
         "John",
         "Doe",
         "1990-01-01"
        ],
        [
         "Jane",
         "Smith",
         "1985-05-15"
        ],
        [
         "Peter",
         "Parker",
         "2001-05-02"
        ],
        [
         "Mary",
         "Jane",
         "2004-08-03"
        ],
        [
         "Bruce",
         "Wayne",
         "1995-03-08"
        ],
        [
         "Diana",
         "Prince",
         "1995-03-01"
        ]
       ],
       "datasetInfos": [],
       "dbfsResultPath": null,
       "isJsonSchema": true,
       "metadata": {},
       "overflow": false,
       "plotOptions": {
        "customPlotOptions": {},
        "displayType": "table",
        "pivotAggregation": null,
        "pivotColumns": null,
        "xColumns": null,
        "yColumns": null
       },
       "removedWidgets": [],
       "schema": [
        {
         "metadata": "{}",
         "name": "First_Name",
         "type": "\"string\""
        },
        {
         "metadata": "{}",
         "name": "Last_Name",
         "type": "\"string\""
        },
        {
         "metadata": "{}",
         "name": "Date_Of_Birth",
         "type": "\"string\""
        }
       ],
       "type": "table"
      }
     },
     "output_type": "display_data"
    }
   ],
   "source": [
    "harmonized_df = harmonize_data(destination_df)"
   ]
  },
  {
   "cell_type": "code",
   "execution_count": 0,
   "metadata": {
    "application/vnd.databricks.v1+cell": {
     "cellMetadata": {
      "byteLimit": 2048000,
      "rowLimit": 10000
     },
     "inputWidgets": {},
     "nuid": "f2268f3f-1248-48e7-8904-1e030681cbfc",
     "showTitle": false,
     "title": ""
    }
   },
   "outputs": [
    {
     "output_type": "display_data",
     "data": {
      "text/html": [
       "<style scoped>\n",
       "  .table-result-container {\n",
       "    max-height: 300px;\n",
       "    overflow: auto;\n",
       "  }\n",
       "  table, th, td {\n",
       "    border: 1px solid black;\n",
       "    border-collapse: collapse;\n",
       "  }\n",
       "  th, td {\n",
       "    padding: 5px;\n",
       "  }\n",
       "  th {\n",
       "    text-align: left;\n",
       "  }\n",
       "</style><div class='table-result-container'><table class='table-result'><thead style='background-color: white'><tr><th>First_Name</th><th>Last_Name</th><th>Date_Of_Birth</th></tr></thead><tbody><tr><td>John</td><td>Doe</td><td>1990-01-01</td></tr><tr><td>Jane</td><td>Smith</td><td>1985-05-15</td></tr><tr><td>Peter</td><td>Parker</td><td>2001-05-02</td></tr><tr><td>Mary</td><td>Jane</td><td>2004-08-03</td></tr><tr><td>Bruce</td><td>Wayne</td><td>1995-03-08</td></tr><tr><td>Diana</td><td>Prince</td><td>1995-03-01</td></tr></tbody></table></div>"
      ]
     },
     "metadata": {
      "application/vnd.databricks.v1+output": {
       "addedWidgets": {},
       "aggData": [],
       "aggError": "",
       "aggOverflow": false,
       "aggSchema": [],
       "aggSeriesLimitReached": false,
       "aggType": "",
       "arguments": {},
       "columnCustomDisplayInfos": {},
       "data": [
        [
         "John",
         "Doe",
         "1990-01-01"
        ],
        [
         "Jane",
         "Smith",
         "1985-05-15"
        ],
        [
         "Peter",
         "Parker",
         "2001-05-02"
        ],
        [
         "Mary",
         "Jane",
         "2004-08-03"
        ],
        [
         "Bruce",
         "Wayne",
         "1995-03-08"
        ],
        [
         "Diana",
         "Prince",
         "1995-03-01"
        ]
       ],
       "datasetInfos": [],
       "dbfsResultPath": null,
       "isJsonSchema": true,
       "metadata": {},
       "overflow": false,
       "plotOptions": {
        "customPlotOptions": {},
        "displayType": "table",
        "pivotAggregation": null,
        "pivotColumns": null,
        "xColumns": null,
        "yColumns": null
       },
       "removedWidgets": [],
       "schema": [
        {
         "metadata": "{}",
         "name": "First_Name",
         "type": "\"string\""
        },
        {
         "metadata": "{}",
         "name": "Last_Name",
         "type": "\"string\""
        },
        {
         "metadata": "{}",
         "name": "Date_Of_Birth",
         "type": "\"string\""
        }
       ],
       "type": "table"
      }
     },
     "output_type": "display_data"
    }
   ],
   "source": [
    "display(harmonized_df)"
   ]
  },
  {
   "cell_type": "code",
   "execution_count": 0,
   "metadata": {
    "application/vnd.databricks.v1+cell": {
     "cellMetadata": {
      "byteLimit": 2048000,
      "rowLimit": 10000
     },
     "inputWidgets": {},
     "nuid": "4aada363-f9d0-44aa-8dd9-b732dafc2cdf",
     "showTitle": false,
     "title": ""
    }
   },
   "outputs": [],
   "source": []
  }
 ],
 "metadata": {
  "application/vnd.databricks.v1+notebook": {
   "dashboards": [],
   "environmentMetadata": null,
   "language": "python",
   "notebookMetadata": {
    "pythonIndentUnit": 4
   },
   "notebookName": "Data Harmonization along column names using spark",
   "widgets": {}
  }
 },
 "nbformat": 4,
 "nbformat_minor": 0
}
